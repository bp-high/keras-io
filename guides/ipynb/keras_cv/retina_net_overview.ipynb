{
 "cells": [
  {
   "cell_type": "markdown",
   "metadata": {
    "colab_type": "text"
   },
   "source": [
    "# Train an Object Detection Model on Pascal VOC 2007 using KerasCV\n",
    "\n",
    "**Author:** [lukewood](https://lukewood.xyz)<br>\n",
    "**Date created:** 2022/08/22<br>\n",
    "**Last modified:** 2022/08/22<br>\n",
    "**Description:** Use KerasCV to train a RetinaNet on Pascal VOC 2007."
   ]
  },
  {
   "cell_type": "markdown",
   "metadata": {
    "colab_type": "text"
   },
   "source": [
    "## Overview\n",
    "\n",
    "KerasCV offers a complete set of APIs to train your own state-of-the-art,\n",
    "production-grade object detection model.  These APIs include object detection specific\n",
    "data augmentation techniques, models, and COCO metrics.\n",
    "\n",
    "To get started, let's sort out all of our imports and define global configuration parameters."
   ]
  },
  {
   "cell_type": "code",
   "execution_count": 0,
   "metadata": {
    "colab_type": "code"
   },
   "outputs": [],
   "source": [
    "import tensorflow as tf\n",
    "import tensorflow_datasets as tfds\n",
    "from tensorflow import keras\n",
    "from tensorflow.keras import optimizers\n",
    "\n",
    "import keras_cv\n",
    "from keras_cv import bounding_box\n",
    "import os\n",
    "from luketils import visualization\n",
    "\n",
    "BATCH_SIZE = 16\n",
    "EPOCHS = int(os.getenv(\"EPOCHS\", \"1\"))\n",
    "CHECKPOINT_PATH = os.getenv(\"CHECKPOINT_PATH\", \"checkpoint/\")\n",
    "INFERENCE_CHECKPOINT_PATH = os.getenv(\"INFERENCE_CHECKPOINT_PATH\", CHECKPOINT_PATH)"
   ]
  },
  {
   "cell_type": "markdown",
   "metadata": {
    "colab_type": "text"
   },
   "source": [
    "## Data loading\n",
    "\n",
    "In this guide, we use the function: `keras_cv.datasets.pascal_voc.load()` to load our\n",
    "data. KerasCV requires a `bounding_box_format` argument in all components that process\n",
    "bounding boxes.  To match the KerasCV API style, it is recommended that when writing a\n",
    "custom data loader, you also support a `bounding_box_format` argument.\n",
    "This makes it clear to those invoking your data loader what format the bounding boxes\n",
    "are in.\n",
    "\n",
    "For example:\n",
    "\n",
    "```python\n",
    "train_ds, ds_info = keras_cv.datasets.pascal_voc.load(\n",
    "    split='train', bounding_box_format='xywh', batch_size=8\n",
    ")\n",
    "```\n",
    "\n",
    "Clearly yields bounding boxes in the format `xywh`.  You can read more about\n",
    "KerasCV bounding box formats [in the API docs](https://keras.io/api/keras_cv/bounding_box/formats/).\n",
    "\n",
    "Our data comesloaded into the format\n",
    "`{\"images\": images, \"bounding_boxes\": bounding_boxes}`.  This format is supported in all\n",
    "KerasCV preprocessing components.\n",
    "\n",
    "Let's load some data and verify that our data looks as we expect it to."
   ]
  },
  {
   "cell_type": "code",
   "execution_count": 0,
   "metadata": {
    "colab_type": "code"
   },
   "outputs": [],
   "source": [
    "dataset, dataset_info = keras_cv.datasets.pascal_voc.load(\n",
    "    split=\"train\", bounding_box_format=\"xywh\", batch_size=BATCH_SIZE\n",
    ")\n",
    "\n",
    "class_ids = [\n",
    "    \"Aeroplane\",\n",
    "    \"Bicycle\",\n",
    "    \"Bird\",\n",
    "    \"Boat\",\n",
    "    \"Bottle\",\n",
    "    \"Bus\",\n",
    "    \"Car\",\n",
    "    \"Cat\",\n",
    "    \"Chair\",\n",
    "    \"Cow\",\n",
    "    \"Dining Table\",\n",
    "    \"Dog\",\n",
    "    \"Horse\",\n",
    "    \"Motorbike\",\n",
    "    \"Person\",\n",
    "    \"Potted Plant\",\n",
    "    \"Sheep\",\n",
    "    \"Sofa\",\n",
    "    \"Train\",\n",
    "    \"Tvmonitor\",\n",
    "    \"Total\",\n",
    "]\n",
    "class_mapping = dict(zip(range(len(class_ids)), class_ids))\n",
    "\n",
    "\n",
    "def visualize_dataset(dataset, bounding_box_format):\n",
    "    example = next(iter(dataset))\n",
    "    images, boxes = example[\"images\"], example[\"bounding_boxes\"]\n",
    "    visualization.plot_bounding_box_gallery(\n",
    "        images,\n",
    "        value_range=(0, 255),\n",
    "        bounding_box_format=bounding_box_format,\n",
    "        y_true=boxes,\n",
    "        scale=4,\n",
    "        rows=3,\n",
    "        cols=3,\n",
    "        show=True,\n",
    "        thickness=4,\n",
    "        font_scale=1,\n",
    "        class_mapping=class_mapping,\n",
    "    )\n",
    "\n",
    "\n",
    "visualize_dataset(dataset, bounding_box_format=\"xywh\")\n",
    ""
   ]
  },
  {
   "cell_type": "markdown",
   "metadata": {
    "colab_type": "text"
   },
   "source": [
    "Looks like everything is structured as expected.  Now we can move on to constructing our\n",
    "data augmentation pipeline."
   ]
  },
  {
   "cell_type": "markdown",
   "metadata": {
    "colab_type": "text"
   },
   "source": [
    "## Data augmentation\n",
    "\n",
    "One of the most labor-intensive tasks when constructing object detection pipelines is\n",
    "data augmentation.  Image augmentation techniques must be aware of the underlying\n",
    "bounding boxes, and must update them accordingly.\n",
    "\n",
    "Luckily, KerasCV natively supports bounding box augmentation with its extensive library\n",
    "of [data augmentation layers](https://keras.io/api/keras_cv/layers/preprocessing/).\n",
    "The code below loads the Pascal VOC dataset, and performs on-the-fly bounding box\n",
    "friendly data augmentation inside of a `tf.data` pipeline."
   ]
  },
  {
   "cell_type": "code",
   "execution_count": 0,
   "metadata": {
    "colab_type": "code"
   },
   "outputs": [],
   "source": [
    "# train_ds is batched as a (images, bounding_boxes) tuple\n",
    "# bounding_boxes are ragged\n",
    "train_ds, train_dataset_info = keras_cv.datasets.pascal_voc.load(\n",
    "    bounding_box_format=\"xywh\", split=\"train\", batch_size=BATCH_SIZE\n",
    ")\n",
    "val_ds, val_dataset_info = keras_cv.datasets.pascal_voc.load(\n",
    "    bounding_box_format=\"xywh\", split=\"validation\", batch_size=BATCH_SIZE\n",
    ")\n",
    "\n",
    "random_flip = keras_cv.layers.RandomFlip(mode=\"horizontal\", bounding_box_format=\"xywh\")\n",
    "rand_augment = keras_cv.layers.RandAugment(\n",
    "    value_range=(0, 255),\n",
    "    augmentations_per_image=2,\n",
    "    # we disable geometric augmentations for object detection tasks\n",
    "    geometric=False,\n",
    ")\n",
    "\n",
    "\n",
    "def augment(inputs):\n",
    "    # In future KerasCV releases, RandAugment will support\n",
    "    # bounding box detection\n",
    "    inputs[\"images\"] = rand_augment(inputs[\"images\"])\n",
    "    inputs = random_flip(inputs)\n",
    "    return inputs\n",
    "\n",
    "\n",
    "train_ds = train_ds.map(augment, num_parallel_calls=tf.data.AUTOTUNE)\n",
    "visualize_dataset(train_ds, bounding_box_format=\"xywh\")"
   ]
  },
  {
   "cell_type": "markdown",
   "metadata": {
    "colab_type": "text"
   },
   "source": [
    "Great!  We now have a bounding box friendly augmentation pipeline.\n",
    "\n",
    "Next, let's unpackage our inputs from the preprocessing dictionary, and prepare to feed\n",
    "the inputs into our model."
   ]
  },
  {
   "cell_type": "code",
   "execution_count": 0,
   "metadata": {
    "colab_type": "code"
   },
   "outputs": [],
   "source": [
    "\n",
    "def dict_to_tuple(inputs):\n",
    "    return inputs[\"images\"], inputs[\"bounding_boxes\"]\n",
    "\n",
    "\n",
    "train_ds = train_ds.map(dict_to_tuple, num_parallel_calls=tf.data.AUTOTUNE)\n",
    "val_ds = val_ds.map(dict_to_tuple, num_parallel_calls=tf.data.AUTOTUNE)\n",
    "\n",
    "train_ds = train_ds.prefetch(tf.data.AUTOTUNE)\n",
    "val_ds = val_ds.prefetch(tf.data.AUTOTUNE)"
   ]
  },
  {
   "cell_type": "markdown",
   "metadata": {
    "colab_type": "text"
   },
   "source": [
    "Our data pipeline is now complete.  We can now move on to model creation and training."
   ]
  },
  {
   "cell_type": "markdown",
   "metadata": {
    "colab_type": "text"
   },
   "source": [
    "## Model creation\n",
    "\n",
    "We'll use the KerasCV API to construct a RetinaNet model.  In this tutorial we use\n",
    "a pretrained ResNet50 backbone, initializing the weights to weights produced by training\n",
    "on the imagenet dataset.  In order to perform fine-tuning, we\n",
    "freeze the backbone before training.  When `include_rescaling=True` is set, inputs to\n",
    "the model are expected to be in the range `[0, 255]`."
   ]
  },
  {
   "cell_type": "code",
   "execution_count": 0,
   "metadata": {
    "colab_type": "code"
   },
   "outputs": [],
   "source": [
    "model = keras_cv.models.RetinaNet(\n",
    "    # number of classes to be used in box classification\n",
    "    classes=20,\n",
    "    # For more info on supported bounding box formats, visit\n",
    "    # https://keras.io/api/keras_cv/bounding_box/\n",
    "    bounding_box_format=\"xywh\",\n",
    "    # KerasCV offers a set of pre-configured backbones\n",
    "    backbone=\"resnet50\",\n",
    "    # Each backbone comes with multiple pre-trained weights\n",
    "    # These weights match the weights available in the `keras_cv.model` class.\n",
    "    backbone_weights=\"imagenet\",\n",
    "    # include_rescaling tells the model whether your input images are in the default\n",
    "    # pixel range (0, 255) or if you have already rescaled your inputs to the range\n",
    "    # (0, 1).  In our case, we feed our model images with inputs in the range (0, 255).\n",
    "    include_rescaling=True,\n",
    "    # Typically, you'll want to set this to False when training a real model.\n",
    "    # evaluate_train_time_metrics=True makes `train_step()` incompatible with TPU,\n",
    "    # and also causes a massive performance hit.  It can, however be useful to produce\n",
    "    # train time metrics when debugging your model training pipeline.\n",
    "    evaluate_train_time_metrics=False,\n",
    ")\n",
    "# Fine-tuning a RetinaNet is as simple as setting backbone.trainable = False\n",
    "model.backbone.trainable = False"
   ]
  },
  {
   "cell_type": "markdown",
   "metadata": {
    "colab_type": "text"
   },
   "source": [
    "That is all it takes to construct a KerasCV RetinaNet.  The RetinaNet accepts tuples of\n",
    "dense image Tensors and ragged bounding box Tensors to `fit()` and `train_on_batch()`\n",
    "This matches what we have constructed in our input pipeline above."
   ]
  },
  {
   "cell_type": "markdown",
   "metadata": {
    "colab_type": "text"
   },
   "source": [
    "## Evaluation with COCO Metrics\n",
    "\n",
    "KerasCV offers a suite of in-graph COCO metrics that support batch-wise evaluation.\n",
    "More information on these metrics is available in:\n",
    "\n",
    "- [Efficient Graph-Friendly COCO Metric Computation for Train-Time Model Evaluation](https://arxiv.org/abs/2207.12120)\n",
    "- [Using KerasCV COCO Metrics](https://keras.io/guides/keras_cv/coco_metrics/)\n",
    "\n",
    "Let's construct two COCO metrics, an instance of\n",
    "`keras_cv.metrics.COCOMeanAveragePrecision` with the parameterization to match the\n",
    "standard COCO Mean Average Precision metric, and `keras_cv.metrics.COCORecall`\n",
    "parameterized to match the standard COCO Recall metric.\n",
    "\n",
    "An important nuance to note is that by default the KerasCV RetinaNet does not evaluate\n",
    "metrics at train time.  This is to ensure optimal GPU performance and TPU compatibility.\n",
    "If you want to evaluate train time metrics, you may pass\n",
    "`evaluate_train_time_metrics=True` to the `keras_cv.models.RetinaNet` constructor.\n",
    "Due to this, it is recommended to keep your test set small during training and only\n",
    "evaluate COCO metrics for your full evaluation set as a post-training step."
   ]
  },
  {
   "cell_type": "code",
   "execution_count": 0,
   "metadata": {
    "colab_type": "code"
   },
   "outputs": [],
   "source": [
    "metrics = [\n",
    "    keras_cv.metrics.COCOMeanAveragePrecision(\n",
    "        class_ids=range(20),\n",
    "        bounding_box_format=\"xywh\",\n",
    "        name=\"Mean Average Precision\",\n",
    "    ),\n",
    "    keras_cv.metrics.COCORecall(\n",
    "        class_ids=range(20),\n",
    "        bounding_box_format=\"xywh\",\n",
    "        max_detections=100,\n",
    "        name=\"Recall\",\n",
    "    ),\n",
    "]\n",
    ""
   ]
  },
  {
   "cell_type": "markdown",
   "metadata": {
    "colab_type": "text"
   },
   "source": [
    "## Training our model\n",
    "\n",
    "All that is left to do is train our model.  KerasCV object detection models follow the\n",
    "standard Keras workflow, leveraging `compile()` and `fit()`.\n",
    "\n",
    "Let's compile our model:"
   ]
  },
  {
   "cell_type": "code",
   "execution_count": 0,
   "metadata": {
    "colab_type": "code"
   },
   "outputs": [],
   "source": [
    "optimizer = tf.optimizers.SGD(global_clipnorm=10.0)\n",
    "model.compile(\n",
    "    classification_loss=keras_cv.losses.FocalLoss(from_logits=True, reduction=\"none\"),\n",
    "    box_loss=keras_cv.losses.SmoothL1Loss(l1_cutoff=1.0, reduction=\"none\"),\n",
    "    optimizer=optimizer,\n",
    "    metrics=[\n",
    "        keras_cv.metrics.COCOMeanAveragePrecision(\n",
    "            class_ids=range(20),\n",
    "            bounding_box_format=\"xywh\",\n",
    "            name=\"Mean Average Precision\",\n",
    "        ),\n",
    "        keras_cv.metrics.COCORecall(\n",
    "            class_ids=range(20),\n",
    "            bounding_box_format=\"xywh\",\n",
    "            max_detections=100,\n",
    "            name=\"Recall\",\n",
    "        ),\n",
    "    ],\n",
    ")"
   ]
  },
  {
   "cell_type": "markdown",
   "metadata": {
    "colab_type": "text"
   },
   "source": [
    "Next, we can construct some callbacks:"
   ]
  },
  {
   "cell_type": "code",
   "execution_count": 0,
   "metadata": {
    "colab_type": "code"
   },
   "outputs": [],
   "source": [
    "callbacks = [\n",
    "    keras.callbacks.TensorBoard(log_dir=\"logs\"),\n",
    "    keras.callbacks.ReduceLROnPlateau(patience=5),\n",
    "    # Uncomment to train your own RetinaNet\n",
    "    keras.callbacks.ModelCheckpoint(CHECKPOINT_PATH, save_weights_only=True),\n",
    "]"
   ]
  },
  {
   "cell_type": "markdown",
   "metadata": {
    "colab_type": "text"
   },
   "source": [
    "And run `model.fit()`!"
   ]
  },
  {
   "cell_type": "code",
   "execution_count": 0,
   "metadata": {
    "colab_type": "code"
   },
   "outputs": [],
   "source": [
    "model.fit(\n",
    "    train_ds,\n",
    "    validation_data=val_ds.take(20),\n",
    "    epochs=EPOCHS,\n",
    "    callbacks=callbacks,\n",
    ")\n",
    "model.save_weights(CHECKPOINT_PATH)"
   ]
  },
  {
   "cell_type": "markdown",
   "metadata": {
    "colab_type": "text"
   },
   "source": [
    "Next, we can evaluate the metrics by re-compiling the model, and running\n",
    "`model.evaluate()`:"
   ]
  },
  {
   "cell_type": "code",
   "execution_count": 0,
   "metadata": {
    "colab_type": "code"
   },
   "outputs": [],
   "source": [
    "model.load_weights(INFERENCE_CHECKPOINT_PATH)\n",
    "metrics = model.evaluate(val_ds.take(100), return_dict=True)\n",
    "print(metrics)"
   ]
  },
  {
   "cell_type": "markdown",
   "metadata": {
    "colab_type": "text"
   },
   "source": [
    "## Inference\n",
    "\n",
    "KerasCV makes object detection inference simple.  `model.predict(images)` returns a\n",
    "RaggedTensor of bounding boxes.  By default, `RetinaNet.predict()` will perform\n",
    "a non max suppression operation for you."
   ]
  },
  {
   "cell_type": "code",
   "execution_count": 0,
   "metadata": {
    "colab_type": "code"
   },
   "outputs": [],
   "source": [
    "\n",
    "def visualize_detections(model, bounding_box_format):\n",
    "    train_ds, val_dataset_info = keras_cv.datasets.pascal_voc.load(\n",
    "        bounding_box_format=bounding_box_format, split=\"train\", batch_size=BATCH_SIZE\n",
    "    )\n",
    "    train_ds = train_ds.map(dict_to_tuple, num_parallel_calls=tf.data.AUTOTUNE)\n",
    "    images, y_true = next(iter(train_ds.take(1)))\n",
    "    y_pred = model.predict(images)\n",
    "    visualization.plot_bounding_box_gallery(\n",
    "        images,\n",
    "        value_range=(0, 255),\n",
    "        bounding_box_format=bounding_box_format,\n",
    "        y_true=y_true,\n",
    "        y_pred=y_pred,\n",
    "        scale=4,\n",
    "        rows=3,\n",
    "        cols=3,\n",
    "        show=True,\n",
    "        thickness=4,\n",
    "        font_scale=1,\n",
    "        class_mapping=class_mapping,\n",
    "    )\n",
    "\n",
    "\n",
    "visualize_detections(model, bounding_box_format=\"xywh\")"
   ]
  },
  {
   "cell_type": "markdown",
   "metadata": {
    "colab_type": "text"
   },
   "source": [
    "To get good results, you should train for at least 100 epochs.  You also need to\n",
    "tune the prediction decoder layer.  This can be done by passing a custom prediction\n",
    "decoder to the RetinaNet constructor as follows:"
   ]
  },
  {
   "cell_type": "code",
   "execution_count": 0,
   "metadata": {
    "colab_type": "code"
   },
   "outputs": [],
   "source": [
    "prediction_decoder = keras_cv.layers.NmsPredictionDecoder(\n",
    "    bounding_box_format=\"xywh\",\n",
    "    anchor_generator=keras_cv.models.RetinaNet.default_anchor_generator(\n",
    "        bounding_box_format=\"xywh\"\n",
    "    ),\n",
    "    suppression_layer=keras_cv.layers.NonMaxSuppression(\n",
    "        iou_threshold=0.75,\n",
    "        bounding_box_format=\"xywh\",\n",
    "        classes=20,\n",
    "        confidence_threshold=0.85,\n",
    "    ),\n",
    ")\n",
    "model.prediction_decoder = prediction_decoder\n",
    "visualize_detections(model, bounding_box_format=\"xywh\")"
   ]
  },
  {
   "cell_type": "markdown",
   "metadata": {
    "colab_type": "text"
   },
   "source": [
    "## Results and conclusions\n",
    "\n",
    "KerasCV makes it easy to construct state-of-the-art object detection pipelines.  All of\n",
    "the KerasCV object detection components can be used independently, but also have deep\n",
    "integration with each other.  With KerasCV, bounding box augmentation, train-time COCO\n",
    "metrics evaluation, and more, are all made simple and consistent.\n",
    "\n",
    "Some follow up exercises for the reader:\n",
    "\n",
    "- add additional augmentation techniques to improve model performance\n",
    "- grid search `confidence_threshold` and `iou_threshold` on `NmsPredictionDecoder` to\n",
    "    achieve an optimal Mean Average Precision\n",
    "- tune the hyperparameters and data augmentation used to produce high quality results\n",
    "- train an object detection model on another dataset"
   ]
  }
 ],
 "metadata": {
  "colab": {
   "collapsed_sections": [],
   "name": "retina_net_overview",
   "private_outputs": false,
   "provenance": [],
   "toc_visible": true
  },
  "kernelspec": {
   "display_name": "Python 3",
   "language": "python",
   "name": "python3"
  },
  "language_info": {
   "codemirror_mode": {
    "name": "ipython",
    "version": 3
   },
   "file_extension": ".py",
   "mimetype": "text/x-python",
   "name": "python",
   "nbconvert_exporter": "python",
   "pygments_lexer": "ipython3",
   "version": "3.7.0"
  }
 },
 "nbformat": 4,
 "nbformat_minor": 0
}